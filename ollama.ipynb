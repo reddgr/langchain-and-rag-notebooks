{
 "cells": [
  {
   "cell_type": "code",
   "execution_count": 1,
   "metadata": {},
   "outputs": [],
   "source": [
    "from langchain_community.llms import Ollama"
   ]
  },
  {
   "cell_type": "code",
   "execution_count": 4,
   "metadata": {},
   "outputs": [
    {
     "name": "stdout",
     "output_type": "stream",
     "text": [
      "Collecting langchain-ollama\n",
      "  Obtaining dependency information for langchain-ollama from https://files.pythonhosted.org/packages/85/72/f7301340a544fea1c139c64590044f0beb5bfba889b8f6e50766b933e660/langchain_ollama-0.2.3-py3-none-any.whl.metadata\n",
      "  Downloading langchain_ollama-0.2.3-py3-none-any.whl.metadata (1.9 kB)\n",
      "Requirement already satisfied: langchain-core<0.4.0,>=0.3.33 in c:\\users\\david\\anaconda3\\lib\\site-packages (from langchain-ollama) (0.3.34)\n",
      "Collecting ollama<1,>=0.4.4 (from langchain-ollama)\n",
      "  Obtaining dependency information for ollama<1,>=0.4.4 from https://files.pythonhosted.org/packages/31/83/c3ffac86906c10184c88c2e916460806b072a2cfe34cdcaf3a0c0e836d39/ollama-0.4.7-py3-none-any.whl.metadata\n",
      "  Downloading ollama-0.4.7-py3-none-any.whl.metadata (4.7 kB)\n",
      "Requirement already satisfied: langsmith<0.4,>=0.1.125 in c:\\users\\david\\anaconda3\\lib\\site-packages (from langchain-core<0.4.0,>=0.3.33->langchain-ollama) (0.1.147)\n",
      "Requirement already satisfied: tenacity!=8.4.0,<10.0.0,>=8.1.0 in c:\\users\\david\\anaconda3\\lib\\site-packages (from langchain-core<0.4.0,>=0.3.33->langchain-ollama) (8.2.2)\n",
      "Requirement already satisfied: jsonpatch<2.0,>=1.33 in c:\\users\\david\\anaconda3\\lib\\site-packages (from langchain-core<0.4.0,>=0.3.33->langchain-ollama) (1.33)\n",
      "Requirement already satisfied: PyYAML>=5.3 in c:\\users\\david\\anaconda3\\lib\\site-packages (from langchain-core<0.4.0,>=0.3.33->langchain-ollama) (6.0)\n",
      "Requirement already satisfied: packaging<25,>=23.2 in c:\\users\\david\\anaconda3\\lib\\site-packages (from langchain-core<0.4.0,>=0.3.33->langchain-ollama) (24.2)\n",
      "Requirement already satisfied: typing-extensions>=4.7 in c:\\users\\david\\anaconda3\\lib\\site-packages (from langchain-core<0.4.0,>=0.3.33->langchain-ollama) (4.12.2)\n",
      "Requirement already satisfied: pydantic<3.0.0,>=2.5.2 in c:\\users\\david\\anaconda3\\lib\\site-packages (from langchain-core<0.4.0,>=0.3.33->langchain-ollama) (2.9.1)\n",
      "Requirement already satisfied: httpx<0.29,>=0.27 in c:\\users\\david\\anaconda3\\lib\\site-packages (from ollama<1,>=0.4.4->langchain-ollama) (0.27.0)\n",
      "Requirement already satisfied: anyio in c:\\users\\david\\anaconda3\\lib\\site-packages (from httpx<0.29,>=0.27->ollama<1,>=0.4.4->langchain-ollama) (3.5.0)\n",
      "Requirement already satisfied: certifi in c:\\users\\david\\anaconda3\\lib\\site-packages (from httpx<0.29,>=0.27->ollama<1,>=0.4.4->langchain-ollama) (2024.8.30)\n",
      "Requirement already satisfied: httpcore==1.* in c:\\users\\david\\anaconda3\\lib\\site-packages (from httpx<0.29,>=0.27->ollama<1,>=0.4.4->langchain-ollama) (1.0.5)\n",
      "Requirement already satisfied: idna in c:\\users\\david\\anaconda3\\lib\\site-packages (from httpx<0.29,>=0.27->ollama<1,>=0.4.4->langchain-ollama) (3.4)\n",
      "Requirement already satisfied: sniffio in c:\\users\\david\\anaconda3\\lib\\site-packages (from httpx<0.29,>=0.27->ollama<1,>=0.4.4->langchain-ollama) (1.3.1)\n",
      "Requirement already satisfied: h11<0.15,>=0.13 in c:\\users\\david\\anaconda3\\lib\\site-packages (from httpcore==1.*->httpx<0.29,>=0.27->ollama<1,>=0.4.4->langchain-ollama) (0.14.0)\n",
      "Requirement already satisfied: jsonpointer>=1.9 in c:\\users\\david\\anaconda3\\lib\\site-packages (from jsonpatch<2.0,>=1.33->langchain-core<0.4.0,>=0.3.33->langchain-ollama) (2.1)\n",
      "Requirement already satisfied: orjson<4.0.0,>=3.9.14 in c:\\users\\david\\anaconda3\\lib\\site-packages (from langsmith<0.4,>=0.1.125->langchain-core<0.4.0,>=0.3.33->langchain-ollama) (3.10.7)\n",
      "Requirement already satisfied: requests<3,>=2 in c:\\users\\david\\anaconda3\\lib\\site-packages (from langsmith<0.4,>=0.1.125->langchain-core<0.4.0,>=0.3.33->langchain-ollama) (2.32.3)\n",
      "Requirement already satisfied: requests-toolbelt<2.0.0,>=1.0.0 in c:\\users\\david\\anaconda3\\lib\\site-packages (from langsmith<0.4,>=0.1.125->langchain-core<0.4.0,>=0.3.33->langchain-ollama) (1.0.0)\n",
      "Requirement already satisfied: annotated-types>=0.6.0 in c:\\users\\david\\anaconda3\\lib\\site-packages (from pydantic<3.0.0,>=2.5.2->langchain-core<0.4.0,>=0.3.33->langchain-ollama) (0.7.0)\n",
      "Requirement already satisfied: pydantic-core==2.23.3 in c:\\users\\david\\anaconda3\\lib\\site-packages (from pydantic<3.0.0,>=2.5.2->langchain-core<0.4.0,>=0.3.33->langchain-ollama) (2.23.3)\n",
      "Requirement already satisfied: charset-normalizer<4,>=2 in c:\\users\\david\\anaconda3\\lib\\site-packages (from requests<3,>=2->langsmith<0.4,>=0.1.125->langchain-core<0.4.0,>=0.3.33->langchain-ollama) (2.0.4)\n",
      "Requirement already satisfied: urllib3<3,>=1.21.1 in c:\\users\\david\\anaconda3\\lib\\site-packages (from requests<3,>=2->langsmith<0.4,>=0.1.125->langchain-core<0.4.0,>=0.3.33->langchain-ollama) (1.26.19)\n",
      "Downloading langchain_ollama-0.2.3-py3-none-any.whl (19 kB)\n",
      "Downloading ollama-0.4.7-py3-none-any.whl (13 kB)\n",
      "Installing collected packages: ollama, langchain-ollama\n",
      "Successfully installed langchain-ollama-0.2.3 ollama-0.4.7\n"
     ]
    }
   ],
   "source": [
    "!pip install -U langchain-ollama"
   ]
  },
  {
   "cell_type": "code",
   "execution_count": 15,
   "metadata": {},
   "outputs": [],
   "source": [
    "from langchain_ollama import OllamaLLM\n",
    "from langchain.prompts import PromptTemplate\n",
    "from langchain.chains.llm import LLMChain\n",
    "import textwrap"
   ]
  },
  {
   "cell_type": "code",
   "execution_count": 19,
   "metadata": {},
   "outputs": [
    {
     "name": "stdout",
     "output_type": "stream",
     "text": [
      "\n",
      "\n",
      "\u001b[1m> Entering new LLMChain chain...\u001b[0m\n",
      "Prompt after formatting:\n",
      "\u001b[32;1m\u001b[1;3m\n",
      "1. Use the following pieces of context to answer the question at the end.\n",
      "2. If you don't know the answer, just say that \"I don't know\" but don't make up an answer on your own.\n",
      "\n",
      "3. Keep the answer crisp and limited to 3,4 sentences.\n",
      "Context: NA\n",
      "Question: What is the capital of France?\n",
      "Helpful Answer:\u001b[0m\n",
      "\n",
      "\u001b[1m> Finished chain.\u001b[0m\n",
      "<think> Okay, so I need to figure out the capital of France. Let me think about this. I remember\n",
      "that France has several capitals, but I'm not exactly sure which one is the actual physical capital.\n",
      "I know Paris is a major city in France, but was it the actual administrative capital? Or was there\n",
      "another city with more political significance?  Wait, no, Paris became the administrative capital of\n",
      "France in 1795. The actual physical capital might be less well-known or maybe not even a city like\n",
      "Paris. Maybe I should check that. But since I can't look anything up right now, I have to rely on\n",
      "what I remember.  I think the capital is also called the capital city because it's where all the\n",
      "political and administrative activities are handled. But what exactly is it? Wasn't there something\n",
      "about the Eiffel Tower being near a river or something? No, I don't recall that part. Maybe it's in\n",
      "the Parisian region, like the Seine River area?  Also, I think it's known as the capital because of\n",
      "the Eiffel Tower and other landmarks nearby. Maybe there are other names associated with it too.\n",
      "Hmm, maybe I'm overcomplicating this. Perhaps the direct answer is that Paris is the administrative\n",
      "capital, but the physical capital is elsewhere.  Wait, no, in reality, the capital city is actually\n",
      "another city called \"London,\" or was that the administrative one? No, London is the capital of\n",
      "England. France's capital must be different. I think it's a nearby city on the Seine River. Maybe\n",
      "there are other names associated with it too, but the main answer would still be Paris as the\n",
      "administrative capital.  But wait, isn't the actual capital called \"Paris\"? Or was it another city?\n",
      "I'm getting confused here. Let me try to recall any historical facts. The Eiffel Tower is named\n",
      "after the French king, and its construction was in France, but the physical capital might not be\n",
      "directly related there. Maybe the actual capital is a different place altogether.  Oh, I think I've\n",
      "heard that the capital of France isn't Paris anymore because the Eiffel Tower was built in 1889, but\n",
      "the administrative capital is still Paris since then. So maybe the direct answer is \"Paris,\" but\n",
      "it's considered the capital city. Alternatively, perhaps it's another city like \"Rennes\" or \"Dijon.\"\n",
      "But I'm not sure.  Wait, no, that doesn't make sense because the Eiffel Tower was built in France,\n",
      "so Paris must be its capital. Maybe there's a confusion between administrative and physical\n",
      "capitals. The actual physical capital is actually elsewhere, maybe called the \"capital of Europe\" or\n",
      "something else.  I think I'm overcomplicating this. Let me try to remember from history. I recall\n",
      "that the Eiffel Tower was built in 1889, which made Paris its administrative capital. But the\n",
      "physical capital might be a nearby city like \"Rennes,\" but no, I think it's actually another name\n",
      "entirely.  Wait, now I'm unsure. Maybe the capital is called the \"capital city\" because of the\n",
      "Eiffel Tower and other landmarks, so it's still Paris despite the construction in France. So maybe\n",
      "the answer is that the capital is Paris, and it's considered the capital city due to its historical\n",
      "significance.  But I also know that the capital of France isn't a traditional capital like England\n",
      "or Spain; it's somewhere else. Maybe it's a city on the Seine River near Paris. So putting this\n",
      "together, I think the answer should mention that Paris is the administrative capital and is\n",
      "sometimes referred to as the capital city due to its connection with landmarks like the Eiffel\n",
      "Tower.  So, in summary, the physical capital of France is not Paris anymore; it's a different city\n",
      "on the Seine River. But the administrative capital remains Paris because of the Eiffel Tower.\n",
      "Therefore, the answer would state that Paris is the administrative capital and sometimes called the\n",
      "capital city due to historical significance. </think>  Paris is the administrative capital of\n",
      "France, but it's considered the capital city due to its connection with landmarks like the Eiffel\n",
      "Tower.  Answer: Paris is the administrative capital of France, though known as the \"capital city\"\n",
      "for its historical ties.\n"
     ]
    }
   ],
   "source": [
    "llm = OllamaLLM(model=\"deepseek-r1:1.5b\")\n",
    "\n",
    "# Define the prompt\n",
    "prompt = \"\"\"\n",
    "1. Use the following pieces of context to answer the question at the end.\n",
    "2. If you don't know the answer, just say that \"I don't know\" but don't make up an answer on your own.\\n\n",
    "3. Keep the answer crisp and limited to 3,4 sentences.\n",
    "Context: {context}\n",
    "Question: {question}\n",
    "Helpful Answer:\"\"\"\n",
    "\n",
    "QA_CHAIN_PROMPT = PromptTemplate.from_template(prompt)\n",
    "\n",
    "llm_chain = LLMChain(\n",
    "    llm=llm,\n",
    "    prompt=QA_CHAIN_PROMPT,\n",
    "    callbacks=None,\n",
    "    verbose=True)\n",
    "\n",
    "context = \"NA\"\n",
    "question = \"What is the capital of France?\"\n",
    "response = llm_chain.run(context=context, question=question)\n",
    "wrapper = textwrap.TextWrapper(width=100)\n",
    "wrapped_response = wrapper.fill(response)\n",
    "print(wrapped_response)"
   ]
  },
  {
   "cell_type": "code",
   "execution_count": 21,
   "metadata": {},
   "outputs": [
    {
     "data": {
      "text/plain": [
       "str"
      ]
     },
     "execution_count": 21,
     "metadata": {},
     "output_type": "execute_result"
    }
   ],
   "source": [
    "type(response)"
   ]
  },
  {
   "cell_type": "code",
   "execution_count": 20,
   "metadata": {},
   "outputs": [
    {
     "name": "stdout",
     "output_type": "stream",
     "text": [
      "<think>\n",
      "Okay, so I need to figure out the capital of France. Let me think about this. I remember that France has several capitals, but I'm not exactly sure which one is the actual physical capital. I know Paris is a major city in France, but was it the actual administrative capital? Or was there another city with more political significance?\n",
      "\n",
      "Wait, no, Paris became the administrative capital of France in 1795. The actual physical capital might be less well-known or maybe not even a city like Paris. Maybe I should check that. But since I can't look anything up right now, I have to rely on what I remember.\n",
      "\n",
      "I think the capital is also called the capital city because it's where all the political and administrative activities are handled. But what exactly is it? Wasn't there something about the Eiffel Tower being near a river or something? No, I don't recall that part. Maybe it's in the Parisian region, like the Seine River area?\n",
      "\n",
      "Also, I think it's known as the capital because of the Eiffel Tower and other landmarks nearby. Maybe there are other names associated with it too. Hmm, maybe I'm overcomplicating this. Perhaps the direct answer is that Paris is the administrative capital, but the physical capital is elsewhere.\n",
      "\n",
      "Wait, no, in reality, the capital city is actually another city called \"London,\" or was that the administrative one? No, London is the capital of England. France's capital must be different. I think it's a nearby city on the Seine River. Maybe there are other names associated with it too, but the main answer would still be Paris as the administrative capital.\n",
      "\n",
      "But wait, isn't the actual capital called \"Paris\"? Or was it another city? I'm getting confused here. Let me try to recall any historical facts. The Eiffel Tower is named after the French king, and its construction was in France, but the physical capital might not be directly related there. Maybe the actual capital is a different place altogether.\n",
      "\n",
      "Oh, I think I've heard that the capital of France isn't Paris anymore because the Eiffel Tower was built in 1889, but the administrative capital is still Paris since then. So maybe the direct answer is \"Paris,\" but it's considered the capital city. Alternatively, perhaps it's another city like \"Rennes\" or \"Dijon.\" But I'm not sure.\n",
      "\n",
      "Wait, no, that doesn't make sense because the Eiffel Tower was built in France, so Paris must be its capital. Maybe there's a confusion between administrative and physical capitals. The actual physical capital is actually elsewhere, maybe called the \"capital of Europe\" or something else.\n",
      "\n",
      "I think I'm overcomplicating this. Let me try to remember from history. I recall that the Eiffel Tower was built in 1889, which made Paris its administrative capital. But the physical capital might be a nearby city like \"Rennes,\" but no, I think it's actually another name entirely.\n",
      "\n",
      "Wait, now I'm unsure. Maybe the capital is called the \"capital city\" because of the Eiffel Tower and other landmarks, so it's still Paris despite the construction in France. So maybe the answer is that the capital is Paris, and it's considered the capital city due to its historical significance.\n",
      "\n",
      "But I also know that the capital of France isn't a traditional capital like England or Spain; it's somewhere else. Maybe it's a city on the Seine River near Paris. So putting this together, I think the answer should mention that Paris is the administrative capital and is sometimes referred to as the capital city due to its connection with landmarks like the Eiffel Tower.\n",
      "\n",
      "So, in summary, the physical capital of France is not Paris anymore; it's a different city on the Seine River. But the administrative capital remains Paris because of the Eiffel Tower. Therefore, the answer would state that Paris is the administrative capital and sometimes called the capital city due to historical significance.\n",
      "</think>\n",
      "\n",
      "Paris is the administrative capital of France, but it's considered the capital city due to its connection with landmarks like the Eiffel Tower.\n",
      "\n",
      "Answer: Paris is the administrative capital of France, though known as the \"capital city\" for its historical ties.\n"
     ]
    }
   ],
   "source": [
    "print(response)"
   ]
  }
 ],
 "metadata": {
  "kernelspec": {
   "display_name": "base",
   "language": "python",
   "name": "python3"
  },
  "language_info": {
   "codemirror_mode": {
    "name": "ipython",
    "version": 3
   },
   "file_extension": ".py",
   "mimetype": "text/x-python",
   "name": "python",
   "nbconvert_exporter": "python",
   "pygments_lexer": "ipython3",
   "version": "3.11.5"
  }
 },
 "nbformat": 4,
 "nbformat_minor": 2
}
